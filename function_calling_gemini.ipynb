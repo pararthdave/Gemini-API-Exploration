{
  "nbformat": 4,
  "nbformat_minor": 0,
  "metadata": {
    "colab": {
      "provenance": []
    },
    "kernelspec": {
      "name": "python3",
      "display_name": "Python 3"
    },
    "language_info": {
      "name": "python"
    }
  },
  "cells": [
    {
      "cell_type": "code",
      "execution_count": 10,
      "metadata": {
        "colab": {
          "base_uri": "https://localhost:8080/"
        },
        "id": "JW-lBTF6I7pS",
        "outputId": "1eab4135-91f8-4235-e912-23e4e87f5ce7"
      },
      "outputs": [
        {
          "output_type": "stream",
          "name": "stdout",
          "text": [
            "Function to call: sentiment_analyzer\n",
            "Arguments: {'sentiment': 'negative', 'text': \"Despite months of planning and countless late nights, the project ended in complete failure. Miscommunication, shifting goals, and constant setbacks drained the team's motivation. In the end, all the hard work amounted to nothing more than a pile of broken promises and missed deadlines. What was once a hopeful vision turned into a bitter reminder that effort alone isn’t enough without clear leadership and trust.\", 'title': 'The Project That Fell Apart'}\n"
          ]
        }
      ],
      "source": [
        "import os\n",
        "from google import genai\n",
        "from google.genai import types\n",
        "# Define the function declaration for the model\n",
        "sentiment_analyzer = {\n",
        "    \"name\": \"sentiment_analyzer\",\n",
        "    \"description\": \"Analyze the sentiment of the given text and return the sentiment and an explanation.\",\n",
        "    \"parameters\": {\n",
        "        \"type\": \"object\",\n",
        "        \"properties\": {\n",
        "            \"title\": {\n",
        "                \"type\": \"string\",\n",
        "                \"description\": \"The title of the text being analyzed.\",\n",
        "            },\n",
        "            \"text\": {\n",
        "                \"type\": \"string\",\n",
        "                \"description\": \"The text content to analyze for sentiment.\",\n",
        "            },\n",
        "            \"sentiment\": {\n",
        "                \"type\": \"string\",\n",
        "                \"description\": \"The sentiment of the text (positive, negative, or neutral).\",\n",
        "                \"enum\": [\"positive\", \"negative\", \"neutral\"],\n",
        "            }\n",
        "        },\n",
        "        \"required\": [\"title\", \"text\", \"sentiment\"],\n",
        "    },\n",
        "}\n",
        "# Configure the client and tools\n",
        "client = genai.Client(api_key=GEMINIAPIKEY)\n",
        "tools = types.Tool(function_declarations=[sentiment_analyzer])\n",
        "\n",
        "tool_config = types.ToolConfig(\n",
        "    function_calling_config=types.FunctionCallingConfig(\n",
        "        mode=\"ANY\", allowed_function_names=[\"sentiment_analyzer\"]\n",
        "    )\n",
        ")\n",
        "config = types.GenerateContentConfig(tools=[tools], tool_config=tool_config)\n",
        "# Send request with function declarations\n",
        "response = client.models.generate_content(\n",
        "    model=\"gemini-2.0-flash\",\n",
        "    contents=\"\"\" run sentiment_analyzer function on this following text and give the appropriate outcome\n",
        "    Title: The Project That Fell Apart\n",
        "Despite months of planning and countless late nights, the project ended in complete failure. Miscommunication, shifting goals, and constant setbacks drained the team's motivation. In the end, all the hard work amounted to nothing more than a pile of broken promises and missed deadlines. What was once a hopeful vision turned into a bitter reminder that effort alone isn’t enough without clear leadership and trust.\n",
        "\"\"\",\n",
        "    config=config,\n",
        ")\n",
        "\n",
        "# Check for a function call\n",
        "if response.candidates[0].content.parts[0].function_call:\n",
        "    function_call = response.candidates[0].content.parts[0].function_call\n",
        "    print(f\"Function to call: {function_call.name}\")\n",
        "    print(f\"Arguments: {function_call.args}\")\n",
        "else:\n",
        "    print(\"No function call found in the response.\")\n",
        "    print(response.text)"
      ]
    },
    {
      "cell_type": "code",
      "source": [],
      "metadata": {
        "id": "spv68QrxLI3n"
      },
      "execution_count": null,
      "outputs": []
    }
  ]
}